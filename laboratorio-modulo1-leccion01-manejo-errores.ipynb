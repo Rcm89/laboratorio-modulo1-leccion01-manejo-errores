{
 "cells": [
  {
   "cell_type": "markdown",
   "metadata": {},
   "source": [
    "\n",
    "<div style=\"text-align: center;\">\n",
    "  <img src=\"https://github.com/Hack-io-Data/Imagenes/blob/main/01-LogosHackio/logo_celeste@4x.png?raw=true\" alt=\"esquema\" />\n",
    "</div>\n"
   ]
  },
  {
   "cell_type": "markdown",
   "metadata": {},
   "source": [
    "# Laboratorio de Python: manejo de errores."
   ]
  },
  {
   "cell_type": "markdown",
   "metadata": {},
   "source": [
    "## Ejercicio 1: División con manejo de excepciones\n",
    "\n",
    "Escribe un programa que pida al usuario dos números e intente dividirlos. Si el usuario ingresa un valor no numérico o intenta dividir por cero, maneja esas excepciones de manera adecuada. Asegúrate de mostrar un mensaje indicando si la división fue exitosa o no.\n"
   ]
  },
  {
   "cell_type": "code",
   "execution_count": 4,
   "metadata": {},
   "outputs": [
    {
     "name": "stdout",
     "output_type": "stream",
     "text": [
      "¡¡Por Dios, no me dividas por cero!!\n"
     ]
    }
   ],
   "source": [
    "try:\n",
    "    m = int(input(\"Introduzca el numero que quiera dividir:\"))\n",
    "    n = int(input(\"Introduzca el numero entre el que quiera dividir:\"))\n",
    "    division = m/n\n",
    "    print(division)\n",
    "    print(\"La división ha sido exitosa\")\n",
    "except ValueError:\n",
    "    print(\"Por favor, indroduzca valores numéricos.\")\n",
    "except ZeroDivisionError:\n",
    "    print(\"¡¡Por Dios, no me dividas por cero!!\")"
   ]
  },
  {
   "cell_type": "markdown",
   "metadata": {},
   "source": [
    "## Ejercicio 2: Acceso a archivos\n",
    "\n",
    "Escribe un programa que intente abrir un archivo llamado \"datos.txt\". Si el archivo no existe, captura la excepción y muestra un mensaje de error. Asegúrate de cerrar el archivo correctamente en la sección `finally`.\n"
   ]
  },
  {
   "cell_type": "code",
   "execution_count": 2,
   "metadata": {},
   "outputs": [
    {
     "name": "stdout",
     "output_type": "stream",
     "text": [
      "El archivo seleccionado no existe\n"
     ]
    },
    {
     "ename": "NameError",
     "evalue": "name 'fichero' is not defined",
     "output_type": "error",
     "traceback": [
      "\u001b[1;31m---------------------------------------------------------------------------\u001b[0m",
      "\u001b[1;31mNameError\u001b[0m                                 Traceback (most recent call last)",
      "Cell \u001b[1;32mIn[2], line 8\u001b[0m\n\u001b[0;32m      5\u001b[0m     \u001b[38;5;28mprint\u001b[39m(\u001b[38;5;124m\"\u001b[39m\u001b[38;5;124mEl archivo seleccionado no existe\u001b[39m\u001b[38;5;124m\"\u001b[39m)\n\u001b[0;32m      6\u001b[0m \u001b[38;5;28;01mfinally\u001b[39;00m:\n\u001b[0;32m      7\u001b[0m     \u001b[38;5;66;03m#Código para cerrar el archivo\u001b[39;00m\n\u001b[1;32m----> 8\u001b[0m     \u001b[43mfichero\u001b[49m\u001b[38;5;241m.\u001b[39mclose()\n",
      "\u001b[1;31mNameError\u001b[0m: name 'fichero' is not defined"
     ]
    }
   ],
   "source": [
    "try:\n",
    "    #Código para abrir un archivo\n",
    "    fichero = open('datos.txt')\n",
    "except IOError:\n",
    "    print(\"El archivo seleccionado no existe\")\n",
    "finally:\n",
    "    #Código para cerrar el archivo\n",
    "    fichero.close()"
   ]
  },
  {
   "cell_type": "markdown",
   "metadata": {},
   "source": [
    "## Ejercicio 3: Conversión de cadenas a enteros\n",
    "\n",
    "Escribe un programa que pida una lista de números separados por comas y convierta cada valor a un número entero. Maneja las excepciones para valores que no sean convertibles y asegúrate de informar si la conversión fue exitosa o no.\n"
   ]
  },
  {
   "cell_type": "code",
   "execution_count": 6,
   "metadata": {},
   "outputs": [
    {
     "name": "stdout",
     "output_type": "stream",
     "text": [
      "El valor '5' en la posición 1 se ha convertido exitosamente a 5.\n",
      "El valor '2' en la posición 2 se ha convertido exitosamente a 2.\n",
      "Error: No se pudo convertir el valor 'hola' en la posición 3 a entero.\n",
      "Lista de valores convertidos a enteros: [5, 2]\n"
     ]
    }
   ],
   "source": [
    "entrada = input(\"Introduce una lista de números separados por comas: \")\n",
    "# Dividimos la entrada en una lista de posibles números\n",
    "lista_numeros = entrada.split(',')\n",
    "# Creamos una lista vacía en la que los números convertidos\n",
    "numeros_convertidos = []\n",
    "# Intentamos convertir cada valor a entero\n",
    "for i, num in enumerate(lista_numeros):\n",
    "    try:\n",
    "        numero = int(num.strip())  # Convertimos a entero, eliminando los espacios\n",
    "        numeros_convertidos.append(numero)\n",
    "        print(f\"El valor '{num}' en la posición {i+1} se ha convertido exitosamente a {numero}.\")\n",
    "    except ValueError:\n",
    "        print(f\"Error: No se pudo convertir el valor '{num}' en la posición {i+1} a entero.\")\n",
    "# Mostrar la lista de valores convertidos a enteros\n",
    "print(\"Lista de valores convertidos a enteros:\", numeros_convertidos)\n"
   ]
  },
  {
   "cell_type": "markdown",
   "metadata": {},
   "source": [
    "#### Ejercicio 4: Cálculo del promedio con manejo de excepciones\n",
    "\n",
    "Escribe una función que reciba una lista de números y calcule su promedio. Si la lista está vacía, lanza una excepción personalizada y maneja el error adecuadamente.\n"
   ]
  },
  {
   "cell_type": "code",
   "execution_count": 20,
   "metadata": {},
   "outputs": [
    {
     "name": "stdout",
     "output_type": "stream",
     "text": [
      "Error: La lista está vacía. No se puede calcular el promedio.\n"
     ]
    }
   ],
   "source": [
    "def promedio(lista):\n",
    "    try:\n",
    "        if len(lista) == 0: \n",
    "            raise ValueError(\"La lista está vacía. No se puede calcular el promedio.\") \n",
    "        promedio = sum(lista) / len(lista)\n",
    "        return promedio\n",
    "    except ValueError as e:\n",
    "        print(f\"Error: {e}\")  # Manejo del error\n",
    "\n",
    "# Ejemplo de uso\n",
    "promedio([])\n"
   ]
  },
  {
   "cell_type": "markdown",
   "metadata": {},
   "source": [
    "#### Ejercicio 5: Conversión segura de números\n",
    "\n",
    "Escribe un programa que convierta una cadena a número flotante e intente realizar una operación aritmética. Si la conversión falla, maneja la excepción y continúa con el flujo normal."
   ]
  },
  {
   "cell_type": "code",
   "execution_count": 9,
   "metadata": {},
   "outputs": [
    {
     "name": "stdout",
     "output_type": "stream",
     "text": [
      "Error: No se pudo convertir la cadena 's' a un número flotante.\n",
      "Programa finalizado.\n"
     ]
    }
   ],
   "source": [
    "# Hacemos que la entrada de datos sea pidiendole una cadena al usuario\n",
    "cadena = input(\"Introduce un número para convertir a flotante: \")\n",
    "# Intentamos convertir la cadena a un número flotante y realizar una operación aritmética (la suma en este caso)\n",
    "try:\n",
    "    numero_flotante = float(cadena)\n",
    "    resultado = numero_flotante + 10\n",
    "    print(f\"El número convertido es {numero_flotante}. Al sumarle 10, el resultado es {resultado}.\")\n",
    "except ValueError:\n",
    "    print(f\"Error: No se pudo convertir la cadena '{cadena}' a un número flotante.\")\n",
    "# Continua el flujo normal del programa\n",
    "print(\"Programa finalizado.\")\n"
   ]
  },
  {
   "cell_type": "markdown",
   "metadata": {},
   "source": [
    "#### Ejercicio 6: Acceso a claves en diccionarios\n",
    "\n",
    "Escribe un programa que intente acceder a una clave específica en un diccionario. Si la clave no existe, maneja la excepción `KeyError` y muestra un mensaje indicando el problema."
   ]
  },
  {
   "cell_type": "code",
   "execution_count": null,
   "metadata": {},
   "outputs": [],
   "source": [
    "diccionario ="
   ]
  },
  {
   "cell_type": "markdown",
   "metadata": {},
   "source": [
    "\n",
    "#### Ejercicio 7: Verificación de entradas de usuario\n",
    "\n",
    "Escribe un programa que pida al usuario que introduzca su edad. Si el usuario ingresa un valor no numérico o un valor fuera del rango esperado (por ejemplo, menor que 0 o mayor que 120), maneja las excepciones adecuadamente."
   ]
  },
  {
   "cell_type": "code",
   "execution_count": null,
   "metadata": {},
   "outputs": [],
   "source": []
  },
  {
   "cell_type": "markdown",
   "metadata": {},
   "source": [
    "#### Ejercicio 8: Extracción de valores de una lista\n",
    "\n",
    "Escribe una función que intente acceder a un índice específico en una lista. Si el índice está fuera del rango, maneja la excepción `IndexError` y muestra un mensaje adecuado.\n"
   ]
  },
  {
   "cell_type": "code",
   "execution_count": null,
   "metadata": {},
   "outputs": [],
   "source": []
  }
 ],
 "metadata": {
  "kernelspec": {
   "display_name": "contenido",
   "language": "python",
   "name": "python3"
  },
  "language_info": {
   "codemirror_mode": {
    "name": "ipython",
    "version": 3
   },
   "file_extension": ".py",
   "mimetype": "text/x-python",
   "name": "python",
   "nbconvert_exporter": "python",
   "pygments_lexer": "ipython3",
   "version": "3.12.6"
  }
 },
 "nbformat": 4,
 "nbformat_minor": 2
}
